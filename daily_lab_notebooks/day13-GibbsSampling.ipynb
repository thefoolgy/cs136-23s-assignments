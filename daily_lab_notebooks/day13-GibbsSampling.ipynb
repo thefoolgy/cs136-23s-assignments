{
 "cells": [
  {
   "cell_type": "markdown",
   "metadata": {},
   "source": [
    "# day13 of CS 136 : Gibbs sampling for a 2D multivariate normal\n",
    "\n",
    "## Outline\n",
    "\n",
    "* **Part 1: Defining the conditional distributions**\n",
    "* **Part 2: Writing a Gibbs sampler**\n",
    "* **Part 3: Sanity check results against NumPy's built-in sampler**\n",
    "\n",
    "## Takeaways\n",
    "\n",
    "* Gibbs samplers are only possible if we can exactly define the conditional distributions (for some models this is easy, for many others this is quite challenging)\n",
    "* When possible, Gibbs samplers are almost always a better choice than Random Walk or other proposal-based MCMC methods\n",
    "\n"
   ]
  },
  {
   "cell_type": "markdown",
   "metadata": {},
   "source": [
    "# Setup"
   ]
  },
  {
   "cell_type": "code",
   "execution_count": 1,
   "metadata": {},
   "outputs": [],
   "source": [
    "import numpy as np\n",
    "import pandas as pd\n",
    "import scipy.stats"
   ]
  },
  {
   "cell_type": "code",
   "execution_count": 2,
   "metadata": {},
   "outputs": [],
   "source": [
    "import matplotlib.pyplot as plt\n",
    "import seaborn as sns\n",
    "sns.set_style(\"whitegrid\")\n",
    "sns.set_context(\"notebook\", font_scale=1.25)"
   ]
  },
  {
   "cell_type": "markdown",
   "metadata": {},
   "source": [
    "# Background\n",
    "\n",
    "## Random variables\n",
    "\n",
    "(We'll use 0-indexing so we have close alignment between math and python code)\n",
    "\n",
    "We are interested in a 2-dimensional random variable $z = [z_0, z_1]$\n",
    "\n",
    "Each entry $z_d$ is a real scalar: $z_d \\in \\mathbb{R}$\n",
    "\n",
    "## Target distribution\n",
    "\n",
    "Our target distribution is a multivariate Gaussian with known zero mean and a covariance matrix that establishes positive correlation between $z_0$ and $z_1$.\n",
    "\n",
    "\\begin{align}\n",
    "p^*(z_0, z_1) =  \\mathcal{N}\\left(\n",
    "    \\left[ \\begin{array}{c}\n",
    "    0 \\\\ 0\n",
    "    \\end{array} \\right],\n",
    "    \\left[\n",
    "    \\begin{array}{c c}\n",
    "    1 & 0.8 \\\\\n",
    "    0.8 & 2\n",
    "    \\end{array} \\right] \\right)\n",
    "\\end{align}\n",
    "\n",
    "Our goal is to draw SAMPLES from this distribution, using the Gibbs sampling method.\n",
    "\n",
    "Naturally, you could draw samples from this distribution just by calling `np.random.multivariate_normal` with the right mean and covariance parameters. This is simpler (of course), and we'll use this fact to *check our Gibbs sampler*, since both procedures should generate samples from the same distribution.\n",
    "\n",
    "One way to think about what we're doing is to say, what if you were given a software library where it was easy to sample from a \"univariate\" normal, but not a *multivariate* normal. The Gibbs sampler here would be one way we could still draw *joint* samples.\n",
    "\n",
    "## Gibbs Sampling algorithm sketch\n",
    "\n",
    "To begin, we initialize the vector $z^0$ to *any valid value in the sample space*.\n",
    "\n",
    "Then, at each iteration $t \\in 0,1 , 2, \\ldots$, we iteratively sample each entry of $z$ as follows:\n",
    "\\begin{align}\n",
    "    z^{t+1}_0 &\\sim p^* (z_0 | z_1 = z^t_1) \\\\\n",
    "    z^{t+1}_1 &\\sim p^* (z_1 | z_0 = z^{t+1}_0)\n",
    "\\end{align}\n",
    "\n",
    "## Things to remember\n",
    "\n",
    "This is a simple example to illustrate the idea of how Gibbs sampling works.\n",
    "\n",
    "There are other \"better\" ways of sampling from a 2d normal."
   ]
  },
  {
   "cell_type": "markdown",
   "metadata": {},
   "source": [
    "# Part 1: Prepare for Gibbs sampling\n",
    "\n",
    "## Exercise 1a: Using the code below, complete the method to sample from p(z0 | z1)"
   ]
  },
  {
   "cell_type": "code",
   "execution_count": 3,
   "metadata": {},
   "outputs": [],
   "source": [
    "# First, we used Bishop textbook formulas to compute the conditional mean/var\n",
    "# See Eq 2.96 and 2.97\n",
    "# https://www.microsoft.com/en-us/research/uploads/prod/2006/01/Bishop-Pattern-Recognition-and-Machine-Learning-2006.pdf#page=110\n",
    "\n",
    "# Start by defining parameters of the given target distribution\n",
    "mean_2 = np.zeros(2)\n",
    "cov_22 = np.asarray([[1.0, 0.8], [0.8, 2.0]])\n",
    "lam_22 = np.linalg.inv(cov_22)"
   ]
  },
  {
   "cell_type": "code",
   "execution_count": 4,
   "metadata": {},
   "outputs": [
    {
     "name": "stdout",
     "output_type": "stream",
     "text": [
      "0.6799999999999999\n"
     ]
    }
   ],
   "source": [
    "# Implement Eq 2.96: Solve for the conditional variance\n",
    "# Note that this is a CONSTANT no matter what value of z1 we're conditioning on\n",
    "\n",
    "cond_v_of_z0 = 1.0 / lam_22[0,0] # grab diag entry of lam_22 relevant to 0\n",
    "print(cond_v_of_z0)"
   ]
  },
  {
   "cell_type": "code",
   "execution_count": 5,
   "metadata": {},
   "outputs": [],
   "source": [
    "# Implement Eq 2.97: Solve for the conditional mean\n",
    "# Note that this is a FUNCTION of the value of z1 we're conditioning on\n",
    "def calc_cond_mean_of_z0(z1):\n",
    "    return mean_2[0] - cond_v_of_z0 * lam_22[0,1] * z1 + cond_v_of_z0 * lam_22[0,1] * mean_2[1]"
   ]
  },
  {
   "cell_type": "code",
   "execution_count": 6,
   "metadata": {},
   "outputs": [
    {
     "data": {
      "text/plain": [
       "array([-0.4       , -0.31111111, -0.22222222, -0.13333333, -0.04444444,\n",
       "        0.04444444,  0.13333333,  0.22222222,  0.31111111,  0.4       ])"
      ]
     },
     "execution_count": 6,
     "metadata": {},
     "output_type": "execute_result"
    }
   ],
   "source": [
    "calc_cond_mean_of_z0(np.linspace(-1, 1, 10))"
   ]
  },
  {
   "cell_type": "code",
   "execution_count": 30,
   "metadata": {},
   "outputs": [],
   "source": [
    "def draw_z0_given_z1(z1, random_state):\n",
    "    ''' Sample a value of z[0] from its conditional given z[1] \n",
    "    \n",
    "    Args\n",
    "    ----\n",
    "    z1 : float\n",
    "        Value of random variable z[1]\n",
    "    random_state : numpy RandomState object\n",
    "        Random number generator\n",
    "    \n",
    "    Returns\n",
    "    -------\n",
    "    z0_samp : float\n",
    "        Sample from the conditional p(z[0] | z[1])\n",
    "    '''\n",
    "\n",
    "    cond_mean_of_z0 = 0.0 # TODO compute the conditional mean of z[0] given z[1]\n",
    "    cond_var_of_z0  = 1.0 # TODO compute the conditional variance of z[0] given z[1]\n",
    "        \n",
    "    # Draw a value u from the Standard Normal (zero mean, unit variance)\n",
    "    u_samp = random_state.randn()\n",
    "    \n",
    "    # Transform this value into a sample from Normal(mean_01, var_01)\n",
    "    # Remember, if u ~ Normal(0, 1), a \"standard\" normal with mean 0 variance 1,\n",
    "    # then using transform: x <- T(u), with T(u) = \\mu + \\sigma * u\n",
    "    # we can say x ~ Normal(\\mu, \\sigma^2)\n",
    "    z0_samp = u_samp # TODO update this line to perform the transformation\n",
    "    return z0_samp"
   ]
  },
  {
   "cell_type": "markdown",
   "metadata": {},
   "source": [
    "## Exercise 1b: Using the code below, complete the method to sample from p(z1 | z0)"
   ]
  },
  {
   "cell_type": "markdown",
   "metadata": {},
   "source": [
    "Use the same process as above! Just flip the indices so you get the mean and variance for z1 instead of z0"
   ]
  },
  {
   "cell_type": "code",
   "execution_count": 31,
   "metadata": {},
   "outputs": [],
   "source": [
    "def draw_z1_given_z0(z0, random_state):\n",
    "    ''' Sample a value of z[1] from its conditional given z[0] \n",
    "    \n",
    "    Args\n",
    "    ----\n",
    "    z0 : float\n",
    "        Value of random variable z[0]\n",
    "    random_state : numpy RandomState object\n",
    "        Random number generator\n",
    "    \n",
    "    Returns\n",
    "    -------\n",
    "    z1_samp : float\n",
    "        Sample from the conditional p(z[1] | z[0])\n",
    "    '''\n",
    "    ## First, use Bishop textbook formulas to compute conditional mean/var\n",
    "    cond_mean_of_z1 = 0.0 # TODO compute the conditional mean of z[1] given z[0]\n",
    "    cond_var_of_z1  = 1.0 # TODO compute the conditional variance of z[1] given z[0]\n",
    "    \n",
    "    \n",
    "    # Draw a value u from the Standard Normal (zero mean, unit variance)\n",
    "    u_samp = random_state.randn()\n",
    "    \n",
    "    # Transform this value into a sample from Normal(mean_01, var_01)\n",
    "    # Remember, if u ~ Normal(0, 1), a \"standard\" normal with mean 0 variance 1,\n",
    "    # then using transform: x <- T(u), with T(u) = \\mu + \\sigma * u\n",
    "    # we can say x ~ Normal(\\mu, \\sigma^2)\n",
    "    z1_samp = u_samp # TODO update this line to perform the transformation\n",
    "    return z1_samp"
   ]
  },
  {
   "cell_type": "markdown",
   "metadata": {},
   "source": [
    "# Part 2: Execute the Gibbs sampling algorithm\n"
   ]
  },
  {
   "cell_type": "markdown",
   "metadata": {},
   "source": [
    "## Gibbs sampler algorithm\n",
    "\n",
    "Perform 6000 iterations.\n",
    "\n",
    "Discard the first 1000 as \"not yet burned in\"."
   ]
  },
  {
   "cell_type": "code",
   "execution_count": 32,
   "metadata": {},
   "outputs": [],
   "source": [
    "S = 6000\n",
    "sample_list = list()\n",
    "z_D = np.zeros(2)\n",
    "\n",
    "random_state = np.random.RandomState(0) # reproducible random seeds\n",
    "\n",
    "for t in range(S):\n",
    "    z_D[0] = draw_z0_given_z1(z_D[1], random_state)\n",
    "    z_D[1] = draw_z1_given_z0(z_D[0], random_state)\n",
    "    \n",
    "    if t > 1000:\n",
    "        sample_list.append(z_D.copy()) # save copies so we get different vectors"
   ]
  },
  {
   "cell_type": "code",
   "execution_count": 33,
   "metadata": {},
   "outputs": [],
   "source": [
    "# convert list of samples to a 2d numpy array\n",
    "z_samples_SD = np.vstack(sample_list)"
   ]
  },
  {
   "cell_type": "markdown",
   "metadata": {},
   "source": [
    "## Visualize the sampled values for z0"
   ]
  },
  {
   "cell_type": "code",
   "execution_count": 34,
   "metadata": {},
   "outputs": [
    {
     "data": {
      "image/png": "[encoded data removed]",
      "text/plain": [
       "<Figure size 432x288 with 1 Axes>"
      ]
     },
     "metadata": {},
     "output_type": "display_data"
    }
   ],
   "source": [
    "plt.plot(z_samples_SD[:,0])\n",
    "plt.xlabel('sample iteration');\n",
    "plt.ylabel('$z_0$')\n",
    "plt.title('Sampled values of r.v. from Gibbs Sampler');"
   ]
  },
  {
   "cell_type": "markdown",
   "metadata": {},
   "source": [
    "## Exercise 2a: Compute the empirical MEAN of your samples\n",
    "\n",
    "You should estimate the mean of your samples, which is effectively:\n",
    "\n",
    "$$\n",
    "\\frac{1}{S} \\sum_{s=1}^S z^s \n",
    "$$\n",
    "\n",
    "If your sampler is correct, and you have enough samples, you should get *very close* to the true mean of your target distribution"
   ]
  },
  {
   "cell_type": "code",
   "execution_count": 8,
   "metadata": {},
   "outputs": [],
   "source": [
    "## TODO compute the mean of z_samples_SD"
   ]
  },
  {
   "cell_type": "markdown",
   "metadata": {},
   "source": [
    "## Exercise 2b: Compute the empirical covariance of your samples\n",
    "\n",
    "You should estimate the covariance of your samples, which is effectively:\n",
    "\n",
    "$$\n",
    "\\frac{1}{S} \\sum_{s=1}^S (z^s - \\bar{z} )  (z^s - \\bar{z} )^T\n",
    "$$\n",
    "\n",
    "If your sampler is correct, and you have enough samples, you should get *very close* to the true covariance of your target distribution"
   ]
  },
  {
   "cell_type": "code",
   "execution_count": 9,
   "metadata": {},
   "outputs": [],
   "source": [
    "## TODO compute the covariance of z_samples_SD. Hint: use np.cov"
   ]
  },
  {
   "cell_type": "markdown",
   "metadata": {},
   "source": [
    "# Part 3: Compare to samples from built-in routines for 2D MVNormal sampling"
   ]
  },
  {
   "cell_type": "markdown",
   "metadata": {},
   "source": [
    "## Draw 1000 samples from target distribution using `np.random.multivariate_normal`"
   ]
  },
  {
   "cell_type": "code",
   "execution_count": 10,
   "metadata": {},
   "outputs": [],
   "source": [
    "true_mu_2 = np.zeros(2)\n",
    "true_cov_22 = np.asarray([[1.0, 0.8], [0.8, 2.0]])\n",
    "true_samples_SD = random_state.multivariate_normal(true_mu_2, true_cov_22, size=S-1000)"
   ]
  },
  {
   "cell_type": "markdown",
   "metadata": {},
   "source": [
    "## Visualize results of your Gibbs-sampler and Numpy's built-in sampler side-by-side\n",
    "\n",
    "Do the results visually match?"
   ]
  },
  {
   "cell_type": "code",
   "execution_count": 11,
   "metadata": {},
   "outputs": [
    {
     "data": {
      "image/png": "[encoded data removed]",
      "text/plain": [
       "<Figure size 720x288 with 2 Axes>"
      ]
     },
     "metadata": {},
     "output_type": "display_data"
    }
   ],
   "source": [
    "fig, ax_grid = plt.subplots(nrows=1, ncols=2, sharex=True, sharey=True, figsize=(10,4))\n",
    "\n",
    "ax_grid[0].plot(z_samples_SD[:,0], z_samples_SD[:,1], 'k.')\n",
    "ax_grid[0].set_title('Gibbs sampler')\n",
    "ax_grid[0].set_aspect('equal', 'box');\n",
    "ax_grid[0].set_xlabel('$z_0$');\n",
    "ax_grid[0].set_ylabel('$z_1$');\n",
    "\n",
    "ax_grid[1].plot(true_samples_SD[:,0], true_samples_SD[:,1], 'k.')\n",
    "ax_grid[1].set_title('np.random.multivariate_normal')\n",
    "ax_grid[1].set_aspect('equal', 'box');\n",
    "ax_grid[1].set_xlim([-6, 6]);\n",
    "ax_grid[1].set_ylim([-6, 6]);\n",
    "ax_grid[1].set_xlabel('$z_0$');\n",
    "ax_grid[1].set_ylabel('$z_1$');"
   ]
  },
  {
   "cell_type": "code",
   "execution_count": null,
   "metadata": {},
   "outputs": [],
   "source": []
  }
 ],
 "metadata": {
  "kernelspec": {
   "display_name": "Python 3.10.9 ('spr_2021s_env')",
   "language": "python",
   "name": "python3"
  },
  "language_info": {
   "codemirror_mode": {
    "name": "ipython",
    "version": 3
   },
   "file_extension": ".py",
   "mimetype": "text/x-python",
   "name": "python",
   "nbconvert_exporter": "python",
   "pygments_lexer": "ipython3",
   "version": "3.10.9"
  },
  "vscode": {
   "interpreter": {
    "hash": "eaebc6faa0b4b1811423fff0aa38b2cf938ee2a81b437b69e9ff7acc8a460816"
   }
  }
 },
 "nbformat": 4,
 "nbformat_minor": 2
}
